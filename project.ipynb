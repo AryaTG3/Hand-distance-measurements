{
 "cells": [
  {
   "cell_type": "code",
   "execution_count": 1,
   "id": "3beb40d7",
   "metadata": {},
   "outputs": [],
   "source": [
    "#import libraries\n",
    "from cvzone.HandTrackingModule import HandDetector\n",
    "import numpy as np\n",
    "import time\n",
    "import cv2\n",
    "import cvzone # provides additional functionalities and tools for computer vision tasks and image processing.\n",
    "import math\n",
    "import random\n",
    "\n"
   ]
  },
  {
   "cell_type": "code",
   "execution_count": 3,
   "id": "39865654",
   "metadata": {},
   "outputs": [
    {
     "data": {
      "text/plain": [
       "True"
      ]
     },
     "execution_count": 3,
     "metadata": {},
     "output_type": "execute_result"
    }
   ],
   "source": [
    "# Webcam\n",
    "cap = cv2.VideoCapture(0)\n",
    "cap.set(3, 1280)\n",
    "cap.set(4, 720)# set the capture dimensions to 1280x720 pixels \n"
   ]
  },
  {
   "cell_type": "code",
   "execution_count": null,
   "id": "4087bd9f",
   "metadata": {},
   "outputs": [],
   "source": [
    "# Hand Detector\n",
    "detector = HandDetector(detectionCon=0.5, maxHands=1)#The HandDetector class is designed to detect and \n",
    "#track hands in a video stream or image. "
   ]
  },
  {
   "cell_type": "code",
   "execution_count": null,
   "id": "2bfc1744",
   "metadata": {},
   "outputs": [],
   "source": [
    "# Find Function\n",
    "#Each pair of values (x, y) represents a coordinate point on the plane.\n",
    "x = [300, 245, 200, 170, 145, 130, 112, 103, 93, 87, 80, 75, 70, 67, 62, 59, 57]\n",
    "y = [20, 25, 30, 35, 40, 45, 50, 55, 60, 65, 70, 75, 80, 85, 90, 95, 100]\n",
    "coff = np.polyfit(x, y, 2)  # y = Ax^2 + Bx + C \n",
    "print(coff)\n",
    "# Game Variables\n",
    "cx, cy = 250, 250\n",
    "color = (255, 0, 255)\n",
    "counter = 0 #This variable is  keep track of a specific event or condition.\n",
    "score = 0\n",
    "timeStart = time.time()\n",
    "totalTime = 20"
   ]
  },
  {
   "cell_type": "code",
   "execution_count": null,
   "id": "26a3ad96",
   "metadata": {},
   "outputs": [],
   "source": [
    "# Loop\n",
    "while True:\n",
    "    success, img = cap.read()\n",
    "    #This loop continuously captures frames \n",
    "    #from the webcam using cap.read() and assigns the result to the img variable.\n",
    "    img = cv2.flip(img, 1)        #horizontally flip the frame\n",
    "\n",
    "    if time.time()-timeStart < totalTime:\n",
    "\n",
    "        hands = detector.findHands(img, draw=False)\n",
    "        #The detector.findHands() to detect hands in the current frame. \n",
    "        if hands:\n",
    "            lmList = hands[0]['lmList']\n",
    "            x, y, w, h = hands[0]['bbox']\n",
    "            x1, y1,_= lmList[5]\n",
    "            x2, y2,_= lmList[17]\n",
    "            #The variables x1, y1, x2, and y2 store the \n",
    "            #coordinates of specific landmarks (5 and 17).\n",
    "\n",
    "            distance = int(math.sqrt((y2 - y1) ** 2 + (x2 - x1) ** 2))\n",
    "            A, B, C = coff\n",
    "            distanceCM = A * distance ** 2 + B * distance + C\n",
    "            # print(distanceCM, distance)  x=distance\n",
    "            #It then uses the coefficients from the coff variable (obtained\n",
    "            #from the previous polynomial fit) to convert the distance to centimeters.\n",
    "\n",
    "            if distanceCM < 40:\n",
    "                if x < cx < x + w and y < cy < y + h:\n",
    "                    counter = 1  # and the center point (cx, cy) is within the \n",
    "                    #bounding box of the hand, the counter variable is set to 1.\n",
    "            \n",
    "            cv2.rectangle(img, (x, y), (x + w, y + h), (255, 0, 255), 3)\n",
    "            cvzone.putTextRect(img, f'{int(distanceCM)} cm', (x + 5, y - 10))\n",
    "                #These lines draw a rectangle around the hand's bounding box \n",
    "                #and display the calculated distance in centimeters above the rectangle \n",
    "        if counter:\n",
    "            counter += 1\n",
    "            color = (0, 255, 0)\n",
    "            if counter == 3: \n",
    "                cx = random.randint(100, 1100)\n",
    "                cy = random.randint(100, 600)#a new random center point (cx, cy) is generated`\n",
    "                color = (255, 0, 255)\n",
    "                score +=1\n",
    "                counter = 0\n",
    "                 # Draw Button\n",
    "        cv2.circle(img, (cx, cy), 30, color, cv2.FILLED)\n",
    "        cv2.circle(img, (cx, cy), 10, (255, 255, 255), cv2.FILLED)\n",
    "        cv2.circle(img, (cx, cy), 20, (255, 255, 255), 2)\n",
    "        cv2.circle(img, (cx, cy), 30, (50, 50, 50), 2)\n",
    "\n",
    "        # Game HUD\n",
    "        cvzone.putTextRect(img, f'Time: {int(totalTime-(time.time()-timeStart))}',\n",
    "                           (1000, 75), scale=3, offset=20)\n",
    "        cvzone.putTextRect(img, f'Score: {str(score).zfill(2)}', (60, 75), scale=3, offset=20)\n",
    "    else:\n",
    "        cvzone.putTextRect(img, 'Game Over', (400, 400), scale=5, offset=30, thickness=7)\n",
    "        cvzone.putTextRect(img, f'Your Score: {score}', (450, 500), scale=3, offset=20)\n",
    "        cvzone.putTextRect(img, 'Press R to restart', (460, 575), scale=2, offset=10)\n",
    "\n",
    "\n",
    "\n",
    "    cv2.imshow(\"Image\", img)\n",
    "    key = cv2.waitKey(1)\n",
    "\n",
    "    if key == ord('r'):\n",
    "        timeStart = time.time()\n",
    "        score = 0\n"
   ]
  },
  {
   "cell_type": "code",
   "execution_count": null,
   "id": "e0c1cf46",
   "metadata": {},
   "outputs": [],
   "source": []
  }
 ],
 "metadata": {
  "kernelspec": {
   "display_name": "Python 3 (ipykernel)",
   "language": "python",
   "name": "python3"
  },
  "language_info": {
   "codemirror_mode": {
    "name": "ipython",
    "version": 3
   },
   "file_extension": ".py",
   "mimetype": "text/x-python",
   "name": "python",
   "nbconvert_exporter": "python",
   "pygments_lexer": "ipython3",
   "version": "3.10.0"
  }
 },
 "nbformat": 4,
 "nbformat_minor": 5
}
